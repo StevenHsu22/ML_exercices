{
  "cells": [
    {
      "cell_type": "markdown",
      "metadata": {
        "id": "Z7IKfA3BTwW2"
      },
      "source": [
        "# Hierarchical clustering\n",
        "若是以下的 code 有不清楚的部分，請參考[連結](https://haojunsui.github.io/2016/07/16/scipy-hac/)"
      ]
    },
    {
      "cell_type": "code",
      "execution_count": null,
      "metadata": {
        "id": "2H15bu3NTwW7",
        "colab": {
          "base_uri": "https://localhost:8080/"
        },
        "outputId": "3f9f807a-e493-4d7f-d3f1-51899838e00d"
      },
      "outputs": [
        {
          "output_type": "stream",
          "name": "stdout",
          "text": [
            "['ID_0', 'ID_1', 'ID_2', 'ID_3', 'ID_4']\n"
          ]
        }
      ],
      "source": [
        "import pandas as pd\n",
        "import numpy as np\n",
        "import matplotlib.pyplot as plt\n",
        "%matplotlib inline\n",
        "\n",
        "variables = ['X', 'Y', 'Z']\n",
        "labels = ['ID_' + str(i) for i in range(5)]\n",
        "print(labels)"
      ]
    },
    {
      "cell_type": "code",
      "execution_count": null,
      "metadata": {
        "id": "xdWa5kPGTwW9"
      },
      "outputs": [],
      "source": [
        "# set seed to remain the same sample numbers\n",
        "np.random.seed(42)\n",
        "X = np.random.random_sample([len(labels), len(variables)])\n",
        "df = pd.DataFrame(X, columns=variables, index=labels)"
      ]
    },
    {
      "cell_type": "code",
      "execution_count": null,
      "metadata": {
        "id": "nzXWyERlTwW9",
        "colab": {
          "base_uri": "https://localhost:8080/",
          "height": 206
        },
        "outputId": "9b7e601b-f360-47f1-a7c9-bd535178bd2d"
      },
      "outputs": [
        {
          "output_type": "execute_result",
          "data": {
            "text/plain": [
              "             X         Y         Z\n",
              "ID_0  0.374540  0.950714  0.731994\n",
              "ID_1  0.598658  0.156019  0.155995\n",
              "ID_2  0.058084  0.866176  0.601115\n",
              "ID_3  0.708073  0.020584  0.969910\n",
              "ID_4  0.832443  0.212339  0.181825"
            ],
            "text/html": [
              "\n",
              "\n",
              "  <div id=\"df-836ca882-8365-495c-ab77-27bc1c4ba290\">\n",
              "    <div class=\"colab-df-container\">\n",
              "      <div>\n",
              "<style scoped>\n",
              "    .dataframe tbody tr th:only-of-type {\n",
              "        vertical-align: middle;\n",
              "    }\n",
              "\n",
              "    .dataframe tbody tr th {\n",
              "        vertical-align: top;\n",
              "    }\n",
              "\n",
              "    .dataframe thead th {\n",
              "        text-align: right;\n",
              "    }\n",
              "</style>\n",
              "<table border=\"1\" class=\"dataframe\">\n",
              "  <thead>\n",
              "    <tr style=\"text-align: right;\">\n",
              "      <th></th>\n",
              "      <th>X</th>\n",
              "      <th>Y</th>\n",
              "      <th>Z</th>\n",
              "    </tr>\n",
              "  </thead>\n",
              "  <tbody>\n",
              "    <tr>\n",
              "      <th>ID_0</th>\n",
              "      <td>0.374540</td>\n",
              "      <td>0.950714</td>\n",
              "      <td>0.731994</td>\n",
              "    </tr>\n",
              "    <tr>\n",
              "      <th>ID_1</th>\n",
              "      <td>0.598658</td>\n",
              "      <td>0.156019</td>\n",
              "      <td>0.155995</td>\n",
              "    </tr>\n",
              "    <tr>\n",
              "      <th>ID_2</th>\n",
              "      <td>0.058084</td>\n",
              "      <td>0.866176</td>\n",
              "      <td>0.601115</td>\n",
              "    </tr>\n",
              "    <tr>\n",
              "      <th>ID_3</th>\n",
              "      <td>0.708073</td>\n",
              "      <td>0.020584</td>\n",
              "      <td>0.969910</td>\n",
              "    </tr>\n",
              "    <tr>\n",
              "      <th>ID_4</th>\n",
              "      <td>0.832443</td>\n",
              "      <td>0.212339</td>\n",
              "      <td>0.181825</td>\n",
              "    </tr>\n",
              "  </tbody>\n",
              "</table>\n",
              "</div>\n",
              "      <button class=\"colab-df-convert\" onclick=\"convertToInteractive('df-836ca882-8365-495c-ab77-27bc1c4ba290')\"\n",
              "              title=\"Convert this dataframe to an interactive table.\"\n",
              "              style=\"display:none;\">\n",
              "\n",
              "  <svg xmlns=\"http://www.w3.org/2000/svg\" height=\"24px\"viewBox=\"0 0 24 24\"\n",
              "       width=\"24px\">\n",
              "    <path d=\"M0 0h24v24H0V0z\" fill=\"none\"/>\n",
              "    <path d=\"M18.56 5.44l.94 2.06.94-2.06 2.06-.94-2.06-.94-.94-2.06-.94 2.06-2.06.94zm-11 1L8.5 8.5l.94-2.06 2.06-.94-2.06-.94L8.5 2.5l-.94 2.06-2.06.94zm10 10l.94 2.06.94-2.06 2.06-.94-2.06-.94-.94-2.06-.94 2.06-2.06.94z\"/><path d=\"M17.41 7.96l-1.37-1.37c-.4-.4-.92-.59-1.43-.59-.52 0-1.04.2-1.43.59L10.3 9.45l-7.72 7.72c-.78.78-.78 2.05 0 2.83L4 21.41c.39.39.9.59 1.41.59.51 0 1.02-.2 1.41-.59l7.78-7.78 2.81-2.81c.8-.78.8-2.07 0-2.86zM5.41 20L4 18.59l7.72-7.72 1.47 1.35L5.41 20z\"/>\n",
              "  </svg>\n",
              "      </button>\n",
              "\n",
              "\n",
              "\n",
              "    <div id=\"df-a912781e-88ee-4d1e-a64c-354570d831e1\">\n",
              "      <button class=\"colab-df-quickchart\" onclick=\"quickchart('df-a912781e-88ee-4d1e-a64c-354570d831e1')\"\n",
              "              title=\"Suggest charts.\"\n",
              "              style=\"display:none;\">\n",
              "\n",
              "<svg xmlns=\"http://www.w3.org/2000/svg\" height=\"24px\"viewBox=\"0 0 24 24\"\n",
              "     width=\"24px\">\n",
              "    <g>\n",
              "        <path d=\"M19 3H5c-1.1 0-2 .9-2 2v14c0 1.1.9 2 2 2h14c1.1 0 2-.9 2-2V5c0-1.1-.9-2-2-2zM9 17H7v-7h2v7zm4 0h-2V7h2v10zm4 0h-2v-4h2v4z\"/>\n",
              "    </g>\n",
              "</svg>\n",
              "      </button>\n",
              "    </div>\n",
              "\n",
              "<style>\n",
              "  .colab-df-quickchart {\n",
              "    background-color: #E8F0FE;\n",
              "    border: none;\n",
              "    border-radius: 50%;\n",
              "    cursor: pointer;\n",
              "    display: none;\n",
              "    fill: #1967D2;\n",
              "    height: 32px;\n",
              "    padding: 0 0 0 0;\n",
              "    width: 32px;\n",
              "  }\n",
              "\n",
              "  .colab-df-quickchart:hover {\n",
              "    background-color: #E2EBFA;\n",
              "    box-shadow: 0px 1px 2px rgba(60, 64, 67, 0.3), 0px 1px 3px 1px rgba(60, 64, 67, 0.15);\n",
              "    fill: #174EA6;\n",
              "  }\n",
              "\n",
              "  [theme=dark] .colab-df-quickchart {\n",
              "    background-color: #3B4455;\n",
              "    fill: #D2E3FC;\n",
              "  }\n",
              "\n",
              "  [theme=dark] .colab-df-quickchart:hover {\n",
              "    background-color: #434B5C;\n",
              "    box-shadow: 0px 1px 3px 1px rgba(0, 0, 0, 0.15);\n",
              "    filter: drop-shadow(0px 1px 2px rgba(0, 0, 0, 0.3));\n",
              "    fill: #FFFFFF;\n",
              "  }\n",
              "</style>\n",
              "\n",
              "    <script>\n",
              "      async function quickchart(key) {\n",
              "        const containerElement = document.querySelector('#' + key);\n",
              "        const charts = await google.colab.kernel.invokeFunction(\n",
              "            'suggestCharts', [key], {});\n",
              "      }\n",
              "    </script>\n",
              "\n",
              "      <script>\n",
              "\n",
              "function displayQuickchartButton(domScope) {\n",
              "  let quickchartButtonEl =\n",
              "    domScope.querySelector('#df-a912781e-88ee-4d1e-a64c-354570d831e1 button.colab-df-quickchart');\n",
              "  quickchartButtonEl.style.display =\n",
              "    google.colab.kernel.accessAllowed ? 'block' : 'none';\n",
              "}\n",
              "\n",
              "        displayQuickchartButton(document);\n",
              "      </script>\n",
              "      <style>\n",
              "    .colab-df-container {\n",
              "      display:flex;\n",
              "      flex-wrap:wrap;\n",
              "      gap: 12px;\n",
              "    }\n",
              "\n",
              "    .colab-df-convert {\n",
              "      background-color: #E8F0FE;\n",
              "      border: none;\n",
              "      border-radius: 50%;\n",
              "      cursor: pointer;\n",
              "      display: none;\n",
              "      fill: #1967D2;\n",
              "      height: 32px;\n",
              "      padding: 0 0 0 0;\n",
              "      width: 32px;\n",
              "    }\n",
              "\n",
              "    .colab-df-convert:hover {\n",
              "      background-color: #E2EBFA;\n",
              "      box-shadow: 0px 1px 2px rgba(60, 64, 67, 0.3), 0px 1px 3px 1px rgba(60, 64, 67, 0.15);\n",
              "      fill: #174EA6;\n",
              "    }\n",
              "\n",
              "    [theme=dark] .colab-df-convert {\n",
              "      background-color: #3B4455;\n",
              "      fill: #D2E3FC;\n",
              "    }\n",
              "\n",
              "    [theme=dark] .colab-df-convert:hover {\n",
              "      background-color: #434B5C;\n",
              "      box-shadow: 0px 1px 3px 1px rgba(0, 0, 0, 0.15);\n",
              "      filter: drop-shadow(0px 1px 2px rgba(0, 0, 0, 0.3));\n",
              "      fill: #FFFFFF;\n",
              "    }\n",
              "  </style>\n",
              "\n",
              "      <script>\n",
              "        const buttonEl =\n",
              "          document.querySelector('#df-836ca882-8365-495c-ab77-27bc1c4ba290 button.colab-df-convert');\n",
              "        buttonEl.style.display =\n",
              "          google.colab.kernel.accessAllowed ? 'block' : 'none';\n",
              "\n",
              "        async function convertToInteractive(key) {\n",
              "          const element = document.querySelector('#df-836ca882-8365-495c-ab77-27bc1c4ba290');\n",
              "          const dataTable =\n",
              "            await google.colab.kernel.invokeFunction('convertToInteractive',\n",
              "                                                     [key], {});\n",
              "          if (!dataTable) return;\n",
              "\n",
              "          const docLinkHtml = 'Like what you see? Visit the ' +\n",
              "            '<a target=\"_blank\" href=https://colab.research.google.com/notebooks/data_table.ipynb>data table notebook</a>'\n",
              "            + ' to learn more about interactive tables.';\n",
              "          element.innerHTML = '';\n",
              "          dataTable['output_type'] = 'display_data';\n",
              "          await google.colab.output.renderOutput(dataTable, element);\n",
              "          const docLink = document.createElement('div');\n",
              "          docLink.innerHTML = docLinkHtml;\n",
              "          element.appendChild(docLink);\n",
              "        }\n",
              "      </script>\n",
              "    </div>\n",
              "  </div>\n"
            ]
          },
          "metadata": {},
          "execution_count": 3
        }
      ],
      "source": [
        "df"
      ]
    },
    {
      "cell_type": "markdown",
      "metadata": {
        "id": "NFGn_lSvTwW-"
      },
      "source": [
        "### 1. build distance matrix by calculating pairwise distance"
      ]
    },
    {
      "cell_type": "code",
      "execution_count": null,
      "metadata": {
        "id": "dFs7ZlPHTwW-"
      },
      "outputs": [],
      "source": [
        "# 1. distance matrix\n",
        "from scipy.spatial.distance import pdist"
      ]
    },
    {
      "cell_type": "code",
      "execution_count": null,
      "metadata": {
        "id": "9dZQVdtPTwW_",
        "colab": {
          "base_uri": "https://localhost:8080/"
        },
        "outputId": "8522db1c-919c-44bb-ffd9-2c642a080657"
      },
      "outputs": [
        {
          "output_type": "execute_result",
          "data": {
            "text/plain": [
              "array([1.00675001, 0.35273321, 1.01636084, 1.02837666, 0.99733501,\n",
              "       0.83232927, 0.24185582, 1.12850367, 1.09678572, 0.82055806])"
            ]
          },
          "metadata": {},
          "execution_count": 5
        }
      ],
      "source": [
        "# pairwise distance\n",
        "# 我們有五個樣本，每兩兩成對計算距離，會得到 10 個距離 (C 5 取 2 = 10)\n",
        "row_dist = pdist(df, metric='euclidean')\n",
        "row_dist"
      ]
    },
    {
      "cell_type": "code",
      "execution_count": null,
      "metadata": {
        "id": "hnvuVHbBTwXA",
        "colab": {
          "base_uri": "https://localhost:8080/"
        },
        "outputId": "02885165-03da-4fa0-df53-97f79f0af9c4"
      },
      "outputs": [
        {
          "output_type": "execute_result",
          "data": {
            "text/plain": [
              "array([[0.        , 1.00675001, 0.35273321, 1.01636084, 1.02837666],\n",
              "       [1.00675001, 0.        , 0.99733501, 0.83232927, 0.24185582],\n",
              "       [0.35273321, 0.99733501, 0.        , 1.12850367, 1.09678572],\n",
              "       [1.01636084, 0.83232927, 1.12850367, 0.        , 0.82055806],\n",
              "       [1.02837666, 0.24185582, 1.09678572, 0.82055806, 0.        ]])"
            ]
          },
          "metadata": {},
          "execution_count": 6
        }
      ],
      "source": [
        "from scipy.spatial.distance import squareform\n",
        "\n",
        "squareform(row_dist)"
      ]
    },
    {
      "cell_type": "markdown",
      "metadata": {
        "id": "_xXO_Vs3TwXl"
      },
      "source": [
        "### 2. build hierarchy"
      ]
    },
    {
      "cell_type": "code",
      "execution_count": null,
      "metadata": {
        "id": "MXFKo5JKTwXm"
      },
      "outputs": [],
      "source": [
        "from scipy.cluster.hierarchy import linkage"
      ]
    },
    {
      "cell_type": "markdown",
      "metadata": {
        "id": "Z1BVFHHoTwXm"
      },
      "source": [
        "#### 2.1 build from the pairwise distance array, row_dist"
      ]
    },
    {
      "cell_type": "code",
      "execution_count": null,
      "metadata": {
        "id": "mKnPGORDTwXn"
      },
      "outputs": [],
      "source": [
        "hc = linkage(row_dist, method='complete')"
      ]
    },
    {
      "cell_type": "code",
      "execution_count": null,
      "metadata": {
        "id": "lB_rlvLPTwXo",
        "colab": {
          "base_uri": "https://localhost:8080/"
        },
        "outputId": "1f7830d9-a89e-4b1a-abb8-b550c613d502"
      },
      "outputs": [
        {
          "output_type": "execute_result",
          "data": {
            "text/plain": [
              "array([[1.        , 4.        , 0.24185582, 2.        ],\n",
              "       [0.        , 2.        , 0.35273321, 2.        ],\n",
              "       [3.        , 5.        , 0.83232927, 3.        ],\n",
              "       [6.        , 7.        , 1.12850367, 5.        ]])"
            ]
          },
          "metadata": {},
          "execution_count": 9
        }
      ],
      "source": [
        "# row: [idx_first, idx_second, distance, sample count]\n",
        "# 第一步:算法決定合併第 1 群與 第 4 群，\n",
        "# 因為這兩群彼此的距離為 0.24，總共合併了兩個 sample\n",
        "# 第二步:算法決定合併第 0 群與 第 2 群，\n",
        "# 因為這兩群彼此的距離為 0.35，總共合併了兩個 sample\n",
        "# 第三步:算法決定合併第 3 群與 第 5 群\n",
        "# (這邊請注意，原先 data 只有五群資料，第 0 群到 第 4 群。\n",
        "# 所以這邊要合併的第 5 群，指得是第一步合併的那群\n",
        "# 第四步:算法決定合併第 6 群與 第 7 群\n",
        "# (同理，這邊指的是，合併第二步那群 與 第三步的那群)\n",
        "\n",
        "# 以上就是階層分析的步驟，看下方 dendrogram 的圖會更清楚\n",
        "hc"
      ]
    },
    {
      "cell_type": "markdown",
      "metadata": {
        "id": "tWyQcuUqTwXo"
      },
      "source": [
        "#### 2.2 build from the original data\n",
        "you will need to defind the distance metric\n"
      ]
    },
    {
      "cell_type": "code",
      "execution_count": null,
      "metadata": {
        "id": "tbbSPHwETwXo"
      },
      "outputs": [],
      "source": [
        "hc = linkage(df.values, method='complete', metric='euclidean')"
      ]
    },
    {
      "cell_type": "code",
      "execution_count": null,
      "metadata": {
        "id": "JWB-6veyTwXp",
        "colab": {
          "base_uri": "https://localhost:8080/"
        },
        "outputId": "cf5b31df-6f90-44c3-d810-7a9ef93de41e"
      },
      "outputs": [
        {
          "output_type": "execute_result",
          "data": {
            "text/plain": [
              "array([[1.        , 4.        , 0.24185582, 2.        ],\n",
              "       [0.        , 2.        , 0.35273321, 2.        ],\n",
              "       [3.        , 5.        , 0.83232927, 3.        ],\n",
              "       [6.        , 7.        , 1.12850367, 5.        ]])"
            ]
          },
          "metadata": {},
          "execution_count": 11
        }
      ],
      "source": [
        "# same result as feed the row_dist\n",
        "hc"
      ]
    },
    {
      "cell_type": "markdown",
      "metadata": {
        "id": "gPtsKPFNTwXq"
      },
      "source": [
        "### 3. Dendrogram"
      ]
    },
    {
      "cell_type": "code",
      "execution_count": null,
      "metadata": {
        "id": "h0h0YflXTwXq"
      },
      "outputs": [],
      "source": [
        "from scipy.cluster.hierarchy import dendrogram\n",
        "from scipy.cluster.hierarchy import set_link_color_palette"
      ]
    },
    {
      "cell_type": "code",
      "execution_count": null,
      "metadata": {
        "id": "mvFlvt6RTwXq"
      },
      "outputs": [],
      "source": [
        "?dendrogram"
      ]
    },
    {
      "cell_type": "code",
      "execution_count": null,
      "metadata": {
        "id": "R3Gg8aE-TwXq",
        "colab": {
          "base_uri": "https://localhost:8080/",
          "height": 434
        },
        "outputId": "df8c8433-baf2-464c-d63d-6db451afae39"
      },
      "outputs": [
        {
          "output_type": "display_data",
          "data": {
            "text/plain": [
              "<Figure size 640x480 with 1 Axes>"
            ],
            "image/png": "[encoded data removed]"
          },
          "metadata": {}
        }
      ],
      "source": [
        "# 繪製樹狀圖，藍色線 代表這兩群的距離超過某個限度，可自己定義 color_threshold\n",
        "set_link_color_palette(['black'])\n",
        "\n",
        "row_dendr = dendrogram(\n",
        "    hc,\n",
        "    labels=labels,\n",
        "    color_threshold=0.3  # 可改動，看看線的顏色變化\n",
        ")"
      ]
    },
    {
      "cell_type": "markdown",
      "metadata": {
        "id": "vKGmJc-cTwXq"
      },
      "source": [
        "### 4. Decide the number of clusters by various criteria\n",
        "決定分群的結果"
      ]
    },
    {
      "cell_type": "code",
      "execution_count": null,
      "metadata": {
        "id": "iaCVWrjqTwXr"
      },
      "outputs": [],
      "source": [
        "from scipy.cluster.hierarchy import fcluster"
      ]
    },
    {
      "cell_type": "code",
      "execution_count": null,
      "metadata": {
        "id": "9Gw8X2_6TwXr"
      },
      "outputs": [],
      "source": [
        "?fcluster"
      ]
    },
    {
      "cell_type": "code",
      "execution_count": null,
      "metadata": {
        "id": "mipdkYC6TwXr",
        "colab": {
          "base_uri": "https://localhost:8080/"
        },
        "outputId": "8ddc6564-1386-4c51-828c-413e175f9fa6"
      },
      "outputs": [
        {
          "output_type": "execute_result",
          "data": {
            "text/plain": [
              "array([1, 2, 1, 3, 2], dtype=int32)"
            ]
          },
          "metadata": {},
          "execution_count": 17
        }
      ],
      "source": [
        "# 不同的　criterion 會有不同的參數，t=3，限制最多分成三群\n",
        "# ID_0 與 ID_2 被分為第一群\n",
        "# ID_1 與 ID_4 被分為第二群\n",
        "# ID_3 則是獨立一群\n",
        "fcluster(hc, criterion='maxclust', t=3)"
      ]
    },
    {
      "cell_type": "code",
      "execution_count": null,
      "metadata": {
        "id": "VoMrYU2_TwXr",
        "colab": {
          "base_uri": "https://localhost:8080/"
        },
        "outputId": "29ce21de-1089-4e36-8cfb-1677bac3b374"
      },
      "outputs": [
        {
          "output_type": "execute_result",
          "data": {
            "text/plain": [
              "array([1, 2, 1, 3, 2], dtype=int32)"
            ]
          },
          "metadata": {},
          "execution_count": 18
        }
      ],
      "source": [
        "fcluster(hc, criterion='distance', t=0.5)"
      ]
    },
    {
      "cell_type": "code",
      "execution_count": null,
      "metadata": {
        "id": "4ehZu0hvTwXr"
      },
      "outputs": [],
      "source": []
    }
  ],
  "metadata": {
    "kernelspec": {
      "display_name": "Python 3 (ipykernel)",
      "language": "python",
      "name": "python3"
    },
    "language_info": {
      "codemirror_mode": {
        "name": "ipython",
        "version": 3
      },
      "file_extension": ".py",
      "mimetype": "text/x-python",
      "name": "python",
      "nbconvert_exporter": "python",
      "pygments_lexer": "ipython3",
      "version": "3.10.2"
    },
    "toc": {
      "base_numbering": 1,
      "nav_menu": {},
      "number_sections": true,
      "sideBar": true,
      "skip_h1_title": false,
      "title_cell": "Table of Contents",
      "title_sidebar": "Contents",
      "toc_cell": false,
      "toc_position": {},
      "toc_section_display": true,
      "toc_window_display": false
    },
    "colab": {
      "provenance": []
    }
  },
  "nbformat": 4,
  "nbformat_minor": 0
}