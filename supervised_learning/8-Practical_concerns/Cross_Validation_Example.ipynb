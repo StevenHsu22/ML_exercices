{
  "cells": [
    {
      "cell_type": "markdown",
      "metadata": {
        "id": "e_0nHy3sSMJv"
      },
      "source": [
        "# Cross Validation with KFold"
      ]
    },
    {
      "cell_type": "code",
      "execution_count": null,
      "metadata": {
        "id": "svhz4LvUSMKQ"
      },
      "outputs": [],
      "source": [
        "import numpy as np"
      ]
    },
    {
      "cell_type": "markdown",
      "metadata": {
        "id": "I5VqozbxSMK8"
      },
      "source": [
        "# 試著print出X_train, X_test，並將shuffle改成True看看結果如何變化。"
      ]
    },
    {
      "cell_type": "code",
      "execution_count": null,
      "metadata": {
        "id": "NH9sUdihSMK-",
        "outputId": "1ebd75b9-e9e3-4b6b-ee08-4068481ffeed",
        "colab": {
          "base_uri": "https://localhost:8080/"
        }
      },
      "outputs": [
        {
          "output_type": "stream",
          "name": "stdout",
          "text": [
            "TRAIN index: [1 2 3 4] Validation index: [0]\n",
            "TRAIN index: [0 2 3 4] Validation index: [1]\n",
            "TRAIN index: [0 1 3 4] Validation index: [2]\n",
            "TRAIN index: [0 1 2 4] Validation index: [3]\n",
            "TRAIN index: [0 1 2 3] Validation index: [4]\n"
          ]
        }
      ],
      "source": [
        "from sklearn.model_selection import KFold\n",
        "X = np.array([[1, 2], [3, 4], [5, 6], [7, 8], [9, 10]])\n",
        "y = np.array([1, 2, 3, 4, 5])\n",
        "kf = KFold(n_splits=5, random_state=None, shuffle=False)\n",
        "for train_index, val_index in kf.split(X):\n",
        "    X_train, X_val = X[train_index], X[val_index]\n",
        "    y_train, y_val = y[train_index], y[val_index]\n",
        "    print(\"TRAIN index:\", train_index, \"Validation index:\", val_index)"
      ]
    },
    {
      "cell_type": "markdown",
      "metadata": {
        "id": "RQh6j4JsSMLC"
      },
      "source": [
        "# Print Training and Validation data"
      ]
    },
    {
      "cell_type": "code",
      "execution_count": null,
      "metadata": {
        "id": "AntH0OcOSMLD",
        "outputId": "bd9d547e-657b-41d4-bda6-67a31274e41f",
        "colab": {
          "base_uri": "https://localhost:8080/"
        }
      },
      "outputs": [
        {
          "output_type": "stream",
          "name": "stdout",
          "text": [
            "Cross Validation1============== \n",
            "TRAIN data: \n",
            " [[ 3  4]\n",
            " [ 5  6]\n",
            " [ 7  8]\n",
            " [ 9 10]] \n",
            " Validation data: [[1 2]]\n",
            "Cross Validation2============== \n",
            "TRAIN data: \n",
            " [[ 1  2]\n",
            " [ 5  6]\n",
            " [ 7  8]\n",
            " [ 9 10]] \n",
            " Validation data: [[3 4]]\n",
            "Cross Validation3============== \n",
            "TRAIN data: \n",
            " [[ 1  2]\n",
            " [ 3  4]\n",
            " [ 7  8]\n",
            " [ 9 10]] \n",
            " Validation data: [[5 6]]\n",
            "Cross Validation4============== \n",
            "TRAIN data: \n",
            " [[ 1  2]\n",
            " [ 3  4]\n",
            " [ 5  6]\n",
            " [ 9 10]] \n",
            " Validation data: [[7 8]]\n",
            "Cross Validation5============== \n",
            "TRAIN data: \n",
            " [[1 2]\n",
            " [3 4]\n",
            " [5 6]\n",
            " [7 8]] \n",
            " Validation data: [[ 9 10]]\n"
          ]
        }
      ],
      "source": [
        "i = 1\n",
        "for train_index, val_index in kf.split(X):\n",
        "    X_train, X_val = X[train_index], X[val_index]\n",
        "    y_train, y_val = y[train_index], y[val_index]\n",
        "    print('Cross Validation%d==============' % i, '\\n'\n",
        "          \"TRAIN data:\", '\\n', X_train, '\\n', \"Validation data:\", X_val)\n",
        "    i += 1"
      ]
    },
    {
      "cell_type": "code",
      "execution_count": null,
      "metadata": {
        "id": "NHrFZv8oSMLD"
      },
      "outputs": [],
      "source": []
    }
  ],
  "metadata": {
    "kernelspec": {
      "display_name": "Python 3 (ipykernel)",
      "language": "python",
      "name": "python3"
    },
    "language_info": {
      "codemirror_mode": {
        "name": "ipython",
        "version": 3
      },
      "file_extension": ".py",
      "mimetype": "text/x-python",
      "name": "python",
      "nbconvert_exporter": "python",
      "pygments_lexer": "ipython3",
      "version": "3.10.2"
    },
    "toc": {
      "base_numbering": 1,
      "nav_menu": {},
      "number_sections": true,
      "sideBar": true,
      "skip_h1_title": false,
      "title_cell": "Table of Contents",
      "title_sidebar": "Contents",
      "toc_cell": false,
      "toc_position": {},
      "toc_section_display": true,
      "toc_window_display": false
    },
    "colab": {
      "provenance": []
    }
  },
  "nbformat": 4,
  "nbformat_minor": 0
}