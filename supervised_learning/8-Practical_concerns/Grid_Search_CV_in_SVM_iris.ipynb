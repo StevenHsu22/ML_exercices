{
  "cells": [
    {
      "cell_type": "code",
      "execution_count": null,
      "metadata": {
        "id": "wvKB6DGoSNFF"
      },
      "outputs": [],
      "source": [
        "import numpy as np\n",
        "import matplotlib.pyplot as plt\n",
        "from sklearn import svm, datasets\n",
        "from matplotlib.pylab import rcParams\n",
        "\n",
        "%matplotlib inline\n",
        "rcParams['figure.figsize'] = 10, 5\n",
        "iris = datasets.load_iris()\n",
        "X = iris.data\n",
        "y = iris.target"
      ]
    },
    {
      "cell_type": "markdown",
      "metadata": {
        "id": "GPPt0DCFSNFL"
      },
      "source": [
        "# Grid Search for SVM Parameters"
      ]
    },
    {
      "cell_type": "code",
      "execution_count": null,
      "metadata": {
        "id": "inckweQ8SNFP",
        "outputId": "f0f3c1ff-00cb-4126-98a5-97759ef5e863",
        "colab": {
          "base_uri": "https://localhost:8080/",
          "height": 118
        }
      },
      "outputs": [
        {
          "output_type": "execute_result",
          "data": {
            "text/plain": [
              "GridSearchCV(cv=5, estimator=SVC(),\n",
              "             param_grid={'C': [0.01, 0.1, 1, 10], 'gamma': [0.01, 0.1, 1, 10],\n",
              "                         'kernel': ['linear', 'rbf']},\n",
              "             return_train_score='cv_results_', scoring='accuracy')"
            ],
            "text/html": [
              "<style>#sk-container-id-1 {color: black;background-color: white;}#sk-container-id-1 pre{padding: 0;}#sk-container-id-1 div.sk-toggleable {background-color: white;}#sk-container-id-1 label.sk-toggleable__label {cursor: pointer;display: block;width: 100%;margin-bottom: 0;padding: 0.3em;box-sizing: border-box;text-align: center;}#sk-container-id-1 label.sk-toggleable__label-arrow:before {content: \"▸\";float: left;margin-right: 0.25em;color: #696969;}#sk-container-id-1 label.sk-toggleable__label-arrow:hover:before {color: black;}#sk-container-id-1 div.sk-estimator:hover label.sk-toggleable__label-arrow:before {color: black;}#sk-container-id-1 div.sk-toggleable__content {max-height: 0;max-width: 0;overflow: hidden;text-align: left;background-color: #f0f8ff;}#sk-container-id-1 div.sk-toggleable__content pre {margin: 0.2em;color: black;border-radius: 0.25em;background-color: #f0f8ff;}#sk-container-id-1 input.sk-toggleable__control:checked~div.sk-toggleable__content {max-height: 200px;max-width: 100%;overflow: auto;}#sk-container-id-1 input.sk-toggleable__control:checked~label.sk-toggleable__label-arrow:before {content: \"▾\";}#sk-container-id-1 div.sk-estimator input.sk-toggleable__control:checked~label.sk-toggleable__label {background-color: #d4ebff;}#sk-container-id-1 div.sk-label input.sk-toggleable__control:checked~label.sk-toggleable__label {background-color: #d4ebff;}#sk-container-id-1 input.sk-hidden--visually {border: 0;clip: rect(1px 1px 1px 1px);clip: rect(1px, 1px, 1px, 1px);height: 1px;margin: -1px;overflow: hidden;padding: 0;position: absolute;width: 1px;}#sk-container-id-1 div.sk-estimator {font-family: monospace;background-color: #f0f8ff;border: 1px dotted black;border-radius: 0.25em;box-sizing: border-box;margin-bottom: 0.5em;}#sk-container-id-1 div.sk-estimator:hover {background-color: #d4ebff;}#sk-container-id-1 div.sk-parallel-item::after {content: \"\";width: 100%;border-bottom: 1px solid gray;flex-grow: 1;}#sk-container-id-1 div.sk-label:hover label.sk-toggleable__label {background-color: #d4ebff;}#sk-container-id-1 div.sk-serial::before {content: \"\";position: absolute;border-left: 1px solid gray;box-sizing: border-box;top: 0;bottom: 0;left: 50%;z-index: 0;}#sk-container-id-1 div.sk-serial {display: flex;flex-direction: column;align-items: center;background-color: white;padding-right: 0.2em;padding-left: 0.2em;position: relative;}#sk-container-id-1 div.sk-item {position: relative;z-index: 1;}#sk-container-id-1 div.sk-parallel {display: flex;align-items: stretch;justify-content: center;background-color: white;position: relative;}#sk-container-id-1 div.sk-item::before, #sk-container-id-1 div.sk-parallel-item::before {content: \"\";position: absolute;border-left: 1px solid gray;box-sizing: border-box;top: 0;bottom: 0;left: 50%;z-index: -1;}#sk-container-id-1 div.sk-parallel-item {display: flex;flex-direction: column;z-index: 1;position: relative;background-color: white;}#sk-container-id-1 div.sk-parallel-item:first-child::after {align-self: flex-end;width: 50%;}#sk-container-id-1 div.sk-parallel-item:last-child::after {align-self: flex-start;width: 50%;}#sk-container-id-1 div.sk-parallel-item:only-child::after {width: 0;}#sk-container-id-1 div.sk-dashed-wrapped {border: 1px dashed gray;margin: 0 0.4em 0.5em 0.4em;box-sizing: border-box;padding-bottom: 0.4em;background-color: white;}#sk-container-id-1 div.sk-label label {font-family: monospace;font-weight: bold;display: inline-block;line-height: 1.2em;}#sk-container-id-1 div.sk-label-container {text-align: center;}#sk-container-id-1 div.sk-container {/* jupyter's `normalize.less` sets `[hidden] { display: none; }` but bootstrap.min.css set `[hidden] { display: none !important; }` so we also need the `!important` here to be able to override the default hidden behavior on the sphinx rendered scikit-learn.org. See: https://github.com/scikit-learn/scikit-learn/issues/21755 */display: inline-block !important;position: relative;}#sk-container-id-1 div.sk-text-repr-fallback {display: none;}</style><div id=\"sk-container-id-1\" class=\"sk-top-container\"><div class=\"sk-text-repr-fallback\"><pre>GridSearchCV(cv=5, estimator=SVC(),\n",
              "             param_grid={&#x27;C&#x27;: [0.01, 0.1, 1, 10], &#x27;gamma&#x27;: [0.01, 0.1, 1, 10],\n",
              "                         &#x27;kernel&#x27;: [&#x27;linear&#x27;, &#x27;rbf&#x27;]},\n",
              "             return_train_score=&#x27;cv_results_&#x27;, scoring=&#x27;accuracy&#x27;)</pre><b>In a Jupyter environment, please rerun this cell to show the HTML representation or trust the notebook. <br />On GitHub, the HTML representation is unable to render, please try loading this page with nbviewer.org.</b></div><div class=\"sk-container\" hidden><div class=\"sk-item sk-dashed-wrapped\"><div class=\"sk-label-container\"><div class=\"sk-label sk-toggleable\"><input class=\"sk-toggleable__control sk-hidden--visually\" id=\"sk-estimator-id-1\" type=\"checkbox\" ><label for=\"sk-estimator-id-1\" class=\"sk-toggleable__label sk-toggleable__label-arrow\">GridSearchCV</label><div class=\"sk-toggleable__content\"><pre>GridSearchCV(cv=5, estimator=SVC(),\n",
              "             param_grid={&#x27;C&#x27;: [0.01, 0.1, 1, 10], &#x27;gamma&#x27;: [0.01, 0.1, 1, 10],\n",
              "                         &#x27;kernel&#x27;: [&#x27;linear&#x27;, &#x27;rbf&#x27;]},\n",
              "             return_train_score=&#x27;cv_results_&#x27;, scoring=&#x27;accuracy&#x27;)</pre></div></div></div><div class=\"sk-parallel\"><div class=\"sk-parallel-item\"><div class=\"sk-item\"><div class=\"sk-label-container\"><div class=\"sk-label sk-toggleable\"><input class=\"sk-toggleable__control sk-hidden--visually\" id=\"sk-estimator-id-2\" type=\"checkbox\" ><label for=\"sk-estimator-id-2\" class=\"sk-toggleable__label sk-toggleable__label-arrow\">estimator: SVC</label><div class=\"sk-toggleable__content\"><pre>SVC()</pre></div></div></div><div class=\"sk-serial\"><div class=\"sk-item\"><div class=\"sk-estimator sk-toggleable\"><input class=\"sk-toggleable__control sk-hidden--visually\" id=\"sk-estimator-id-3\" type=\"checkbox\" ><label for=\"sk-estimator-id-3\" class=\"sk-toggleable__label sk-toggleable__label-arrow\">SVC</label><div class=\"sk-toggleable__content\"><pre>SVC()</pre></div></div></div></div></div></div></div></div></div></div>"
            ]
          },
          "metadata": {},
          "execution_count": 2
        }
      ],
      "source": [
        "from sklearn.model_selection import GridSearchCV\n",
        "parameters = {\n",
        "    'kernel': ['linear', 'rbf'],\n",
        "    'C': [0.01, 0.1, 1, 10],\n",
        "    'gamma': [0.01, 0.1, 1, 10]\n",
        "}\n",
        "model = svm.SVC()\n",
        "model.fit(X, y)\n",
        "best_model = GridSearchCV(model,\n",
        "                          parameters,\n",
        "                          cv=5,\n",
        "                          scoring='accuracy',\n",
        "                          return_train_score='cv_results_')\n",
        "best_model.fit(X, y)"
      ]
    },
    {
      "cell_type": "code",
      "execution_count": null,
      "metadata": {
        "id": "LD1XfYGHSNFQ",
        "outputId": "abc9b14a-4c11-45d2-f221-3dc3449b1d72",
        "colab": {
          "base_uri": "https://localhost:8080/"
        }
      },
      "outputs": [
        {
          "output_type": "stream",
          "name": "stdout",
          "text": [
            "accuracy before Grid Search CV:0.9733\n",
            "accuracy after Grid Search CV:0.9933\n"
          ]
        }
      ],
      "source": [
        "print('accuracy before Grid Search CV:%.4f' % model.score(X, y))\n",
        "print('accuracy after Grid Search CV:%.4f' % best_model.score(X, y))"
      ]
    },
    {
      "cell_type": "markdown",
      "metadata": {
        "id": "scIOONIcSNFQ"
      },
      "source": [
        "# Best Parameter"
      ]
    },
    {
      "cell_type": "code",
      "execution_count": null,
      "metadata": {
        "id": "EMmCX4FkSNH5",
        "outputId": "813f19b5-c333-40fb-c616-e53dce4d4e32",
        "colab": {
          "base_uri": "https://localhost:8080/",
          "height": 75
        }
      },
      "outputs": [
        {
          "output_type": "execute_result",
          "data": {
            "text/plain": [
              "SVC(C=1, gamma=0.01, kernel='linear')"
            ],
            "text/html": [
              "<style>#sk-container-id-2 {color: black;background-color: white;}#sk-container-id-2 pre{padding: 0;}#sk-container-id-2 div.sk-toggleable {background-color: white;}#sk-container-id-2 label.sk-toggleable__label {cursor: pointer;display: block;width: 100%;margin-bottom: 0;padding: 0.3em;box-sizing: border-box;text-align: center;}#sk-container-id-2 label.sk-toggleable__label-arrow:before {content: \"▸\";float: left;margin-right: 0.25em;color: #696969;}#sk-container-id-2 label.sk-toggleable__label-arrow:hover:before {color: black;}#sk-container-id-2 div.sk-estimator:hover label.sk-toggleable__label-arrow:before {color: black;}#sk-container-id-2 div.sk-toggleable__content {max-height: 0;max-width: 0;overflow: hidden;text-align: left;background-color: #f0f8ff;}#sk-container-id-2 div.sk-toggleable__content pre {margin: 0.2em;color: black;border-radius: 0.25em;background-color: #f0f8ff;}#sk-container-id-2 input.sk-toggleable__control:checked~div.sk-toggleable__content {max-height: 200px;max-width: 100%;overflow: auto;}#sk-container-id-2 input.sk-toggleable__control:checked~label.sk-toggleable__label-arrow:before {content: \"▾\";}#sk-container-id-2 div.sk-estimator input.sk-toggleable__control:checked~label.sk-toggleable__label {background-color: #d4ebff;}#sk-container-id-2 div.sk-label input.sk-toggleable__control:checked~label.sk-toggleable__label {background-color: #d4ebff;}#sk-container-id-2 input.sk-hidden--visually {border: 0;clip: rect(1px 1px 1px 1px);clip: rect(1px, 1px, 1px, 1px);height: 1px;margin: -1px;overflow: hidden;padding: 0;position: absolute;width: 1px;}#sk-container-id-2 div.sk-estimator {font-family: monospace;background-color: #f0f8ff;border: 1px dotted black;border-radius: 0.25em;box-sizing: border-box;margin-bottom: 0.5em;}#sk-container-id-2 div.sk-estimator:hover {background-color: #d4ebff;}#sk-container-id-2 div.sk-parallel-item::after {content: \"\";width: 100%;border-bottom: 1px solid gray;flex-grow: 1;}#sk-container-id-2 div.sk-label:hover label.sk-toggleable__label {background-color: #d4ebff;}#sk-container-id-2 div.sk-serial::before {content: \"\";position: absolute;border-left: 1px solid gray;box-sizing: border-box;top: 0;bottom: 0;left: 50%;z-index: 0;}#sk-container-id-2 div.sk-serial {display: flex;flex-direction: column;align-items: center;background-color: white;padding-right: 0.2em;padding-left: 0.2em;position: relative;}#sk-container-id-2 div.sk-item {position: relative;z-index: 1;}#sk-container-id-2 div.sk-parallel {display: flex;align-items: stretch;justify-content: center;background-color: white;position: relative;}#sk-container-id-2 div.sk-item::before, #sk-container-id-2 div.sk-parallel-item::before {content: \"\";position: absolute;border-left: 1px solid gray;box-sizing: border-box;top: 0;bottom: 0;left: 50%;z-index: -1;}#sk-container-id-2 div.sk-parallel-item {display: flex;flex-direction: column;z-index: 1;position: relative;background-color: white;}#sk-container-id-2 div.sk-parallel-item:first-child::after {align-self: flex-end;width: 50%;}#sk-container-id-2 div.sk-parallel-item:last-child::after {align-self: flex-start;width: 50%;}#sk-container-id-2 div.sk-parallel-item:only-child::after {width: 0;}#sk-container-id-2 div.sk-dashed-wrapped {border: 1px dashed gray;margin: 0 0.4em 0.5em 0.4em;box-sizing: border-box;padding-bottom: 0.4em;background-color: white;}#sk-container-id-2 div.sk-label label {font-family: monospace;font-weight: bold;display: inline-block;line-height: 1.2em;}#sk-container-id-2 div.sk-label-container {text-align: center;}#sk-container-id-2 div.sk-container {/* jupyter's `normalize.less` sets `[hidden] { display: none; }` but bootstrap.min.css set `[hidden] { display: none !important; }` so we also need the `!important` here to be able to override the default hidden behavior on the sphinx rendered scikit-learn.org. See: https://github.com/scikit-learn/scikit-learn/issues/21755 */display: inline-block !important;position: relative;}#sk-container-id-2 div.sk-text-repr-fallback {display: none;}</style><div id=\"sk-container-id-2\" class=\"sk-top-container\"><div class=\"sk-text-repr-fallback\"><pre>SVC(C=1, gamma=0.01, kernel=&#x27;linear&#x27;)</pre><b>In a Jupyter environment, please rerun this cell to show the HTML representation or trust the notebook. <br />On GitHub, the HTML representation is unable to render, please try loading this page with nbviewer.org.</b></div><div class=\"sk-container\" hidden><div class=\"sk-item\"><div class=\"sk-estimator sk-toggleable\"><input class=\"sk-toggleable__control sk-hidden--visually\" id=\"sk-estimator-id-4\" type=\"checkbox\" checked><label for=\"sk-estimator-id-4\" class=\"sk-toggleable__label sk-toggleable__label-arrow\">SVC</label><div class=\"sk-toggleable__content\"><pre>SVC(C=1, gamma=0.01, kernel=&#x27;linear&#x27;)</pre></div></div></div></div></div>"
            ]
          },
          "metadata": {},
          "execution_count": 4
        }
      ],
      "source": [
        "best_model.best_estimator_"
      ]
    },
    {
      "cell_type": "code",
      "execution_count": null,
      "metadata": {
        "id": "JSXaHJWiSNH6",
        "outputId": "4da1bade-43f0-4307-af62-6c3792001386",
        "colab": {
          "base_uri": "https://localhost:8080/"
        }
      },
      "outputs": [
        {
          "output_type": "execute_result",
          "data": {
            "text/plain": [
              "{'mean_fit_time': array([0.00198965, 0.00314536, 0.00160913, 0.00214634, 0.00179129,\n",
              "        0.00262008, 0.0021009 , 0.00270443, 0.00145435, 0.00251698,\n",
              "        0.00142212, 0.00200291, 0.00161333, 0.00224428, 0.00151253,\n",
              "        0.00246458, 0.00140347, 0.00164857, 0.00122132, 0.00156131,\n",
              "        0.0014503 , 0.00181675, 0.00139594, 0.00289559, 0.0012537 ,\n",
              "        0.00142732, 0.00156598, 0.00140734, 0.00147314, 0.00242877,\n",
              "        0.00466695, 0.00325069]),\n",
              " 'std_fit_time': array([2.08112484e-04, 6.13643823e-04, 1.53758462e-04, 1.95879028e-04,\n",
              "        1.51760526e-04, 2.18136328e-04, 4.13941769e-04, 2.00948842e-04,\n",
              "        7.92056519e-05, 2.45811891e-04, 1.52571975e-04, 2.56875784e-04,\n",
              "        9.42535197e-05, 3.53195037e-04, 7.67934363e-05, 2.30010617e-04,\n",
              "        2.94821131e-05, 1.67023717e-04, 9.68566022e-05, 2.05406903e-04,\n",
              "        1.55169068e-04, 1.78307324e-04, 3.47168890e-05, 2.23705702e-04,\n",
              "        1.42795382e-04, 1.80391070e-04, 1.12749898e-04, 1.32350910e-04,\n",
              "        1.64954398e-04, 9.11728495e-04, 5.06224196e-03, 3.43208844e-04]),\n",
              " 'mean_score_time': array([0.00112858, 0.00147038, 0.00087943, 0.00121169, 0.00102673,\n",
              "        0.00123076, 0.00114026, 0.00134544, 0.00105643, 0.00117612,\n",
              "        0.00091138, 0.00129838, 0.00101824, 0.00109777, 0.00096922,\n",
              "        0.00128717, 0.00089788, 0.00101895, 0.00079346, 0.00098538,\n",
              "        0.00088978, 0.00106001, 0.00092235, 0.00124583, 0.00086589,\n",
              "        0.0009428 , 0.00100975, 0.00086951, 0.0009613 , 0.00110316,\n",
              "        0.00321236, 0.00135736]),\n",
              " 'std_score_time': array([1.08827842e-04, 1.30361506e-04, 1.25896443e-04, 1.53023381e-04,\n",
              "        1.04778453e-04, 1.66589283e-04, 1.49007194e-04, 9.78538397e-05,\n",
              "        1.55147160e-04, 2.12797364e-04, 1.34354960e-04, 2.31630265e-04,\n",
              "        2.62279510e-05, 1.11819747e-04, 3.73182277e-05, 6.15551154e-05,\n",
              "        4.17998836e-05, 1.29686506e-04, 1.00283514e-04, 1.56941010e-04,\n",
              "        1.27242010e-04, 6.22934413e-05, 4.20019109e-05, 3.57435811e-05,\n",
              "        1.27206302e-04, 9.04530805e-05, 8.48571079e-05, 4.40120955e-05,\n",
              "        1.03180664e-04, 2.85887638e-05, 4.34532958e-03, 7.74152726e-05]),\n",
              " 'param_C': masked_array(data=[0.01, 0.01, 0.01, 0.01, 0.01, 0.01, 0.01, 0.01, 0.1,\n",
              "                    0.1, 0.1, 0.1, 0.1, 0.1, 0.1, 0.1, 1, 1, 1, 1, 1, 1, 1,\n",
              "                    1, 10, 10, 10, 10, 10, 10, 10, 10],\n",
              "              mask=[False, False, False, False, False, False, False, False,\n",
              "                    False, False, False, False, False, False, False, False,\n",
              "                    False, False, False, False, False, False, False, False,\n",
              "                    False, False, False, False, False, False, False, False],\n",
              "        fill_value='?',\n",
              "             dtype=object),\n",
              " 'param_gamma': masked_array(data=[0.01, 0.01, 0.1, 0.1, 1, 1, 10, 10, 0.01, 0.01, 0.1,\n",
              "                    0.1, 1, 1, 10, 10, 0.01, 0.01, 0.1, 0.1, 1, 1, 10, 10,\n",
              "                    0.01, 0.01, 0.1, 0.1, 1, 1, 10, 10],\n",
              "              mask=[False, False, False, False, False, False, False, False,\n",
              "                    False, False, False, False, False, False, False, False,\n",
              "                    False, False, False, False, False, False, False, False,\n",
              "                    False, False, False, False, False, False, False, False],\n",
              "        fill_value='?',\n",
              "             dtype=object),\n",
              " 'param_kernel': masked_array(data=['linear', 'rbf', 'linear', 'rbf', 'linear', 'rbf',\n",
              "                    'linear', 'rbf', 'linear', 'rbf', 'linear', 'rbf',\n",
              "                    'linear', 'rbf', 'linear', 'rbf', 'linear', 'rbf',\n",
              "                    'linear', 'rbf', 'linear', 'rbf', 'linear', 'rbf',\n",
              "                    'linear', 'rbf', 'linear', 'rbf', 'linear', 'rbf',\n",
              "                    'linear', 'rbf'],\n",
              "              mask=[False, False, False, False, False, False, False, False,\n",
              "                    False, False, False, False, False, False, False, False,\n",
              "                    False, False, False, False, False, False, False, False,\n",
              "                    False, False, False, False, False, False, False, False],\n",
              "        fill_value='?',\n",
              "             dtype=object),\n",
              " 'params': [{'C': 0.01, 'gamma': 0.01, 'kernel': 'linear'},\n",
              "  {'C': 0.01, 'gamma': 0.01, 'kernel': 'rbf'},\n",
              "  {'C': 0.01, 'gamma': 0.1, 'kernel': 'linear'},\n",
              "  {'C': 0.01, 'gamma': 0.1, 'kernel': 'rbf'},\n",
              "  {'C': 0.01, 'gamma': 1, 'kernel': 'linear'},\n",
              "  {'C': 0.01, 'gamma': 1, 'kernel': 'rbf'},\n",
              "  {'C': 0.01, 'gamma': 10, 'kernel': 'linear'},\n",
              "  {'C': 0.01, 'gamma': 10, 'kernel': 'rbf'},\n",
              "  {'C': 0.1, 'gamma': 0.01, 'kernel': 'linear'},\n",
              "  {'C': 0.1, 'gamma': 0.01, 'kernel': 'rbf'},\n",
              "  {'C': 0.1, 'gamma': 0.1, 'kernel': 'linear'},\n",
              "  {'C': 0.1, 'gamma': 0.1, 'kernel': 'rbf'},\n",
              "  {'C': 0.1, 'gamma': 1, 'kernel': 'linear'},\n",
              "  {'C': 0.1, 'gamma': 1, 'kernel': 'rbf'},\n",
              "  {'C': 0.1, 'gamma': 10, 'kernel': 'linear'},\n",
              "  {'C': 0.1, 'gamma': 10, 'kernel': 'rbf'},\n",
              "  {'C': 1, 'gamma': 0.01, 'kernel': 'linear'},\n",
              "  {'C': 1, 'gamma': 0.01, 'kernel': 'rbf'},\n",
              "  {'C': 1, 'gamma': 0.1, 'kernel': 'linear'},\n",
              "  {'C': 1, 'gamma': 0.1, 'kernel': 'rbf'},\n",
              "  {'C': 1, 'gamma': 1, 'kernel': 'linear'},\n",
              "  {'C': 1, 'gamma': 1, 'kernel': 'rbf'},\n",
              "  {'C': 1, 'gamma': 10, 'kernel': 'linear'},\n",
              "  {'C': 1, 'gamma': 10, 'kernel': 'rbf'},\n",
              "  {'C': 10, 'gamma': 0.01, 'kernel': 'linear'},\n",
              "  {'C': 10, 'gamma': 0.01, 'kernel': 'rbf'},\n",
              "  {'C': 10, 'gamma': 0.1, 'kernel': 'linear'},\n",
              "  {'C': 10, 'gamma': 0.1, 'kernel': 'rbf'},\n",
              "  {'C': 10, 'gamma': 1, 'kernel': 'linear'},\n",
              "  {'C': 10, 'gamma': 1, 'kernel': 'rbf'},\n",
              "  {'C': 10, 'gamma': 10, 'kernel': 'linear'},\n",
              "  {'C': 10, 'gamma': 10, 'kernel': 'rbf'}],\n",
              " 'split0_test_score': array([0.9       , 0.86666667, 0.9       , 0.9       , 0.9       ,\n",
              "        0.93333333, 0.9       , 0.76666667, 0.96666667, 0.86666667,\n",
              "        0.96666667, 0.9       , 0.96666667, 0.93333333, 0.96666667,\n",
              "        0.76666667, 0.96666667, 0.9       , 0.96666667, 0.96666667,\n",
              "        0.96666667, 0.96666667, 0.96666667, 1.        , 1.        ,\n",
              "        0.96666667, 1.        , 0.96666667, 1.        , 0.96666667,\n",
              "        1.        , 1.        ]),\n",
              " 'split1_test_score': array([0.96666667, 0.96666667, 0.96666667, 0.93333333, 0.96666667,\n",
              "        0.96666667, 0.96666667, 0.7       , 0.96666667, 0.96666667,\n",
              "        0.96666667, 0.93333333, 0.96666667, 0.96666667, 0.96666667,\n",
              "        0.7       , 1.        , 0.96666667, 1.        , 1.        ,\n",
              "        1.        , 1.        , 1.        , 0.9       , 1.        ,\n",
              "        1.        , 1.        , 1.        , 1.        , 0.96666667,\n",
              "        1.        , 0.9       ]),\n",
              " 'split2_test_score': array([0.86666667, 0.83333333, 0.86666667, 0.86666667, 0.86666667,\n",
              "        0.96666667, 0.86666667, 0.7       , 0.96666667, 0.83333333,\n",
              "        0.96666667, 0.9       , 0.96666667, 0.93333333, 0.96666667,\n",
              "        0.7       , 0.96666667, 0.86666667, 0.96666667, 0.96666667,\n",
              "        0.96666667, 0.9       , 0.96666667, 0.86666667, 0.9       ,\n",
              "        0.96666667, 0.9       , 0.96666667, 0.9       , 0.9       ,\n",
              "        0.9       , 0.86666667]),\n",
              " 'split3_test_score': array([0.96666667, 0.96666667, 0.96666667, 0.93333333, 0.96666667,\n",
              "        0.93333333, 0.96666667, 0.83333333, 0.96666667, 0.96666667,\n",
              "        0.96666667, 0.93333333, 0.96666667, 0.96666667, 0.96666667,\n",
              "        0.83333333, 0.96666667, 0.93333333, 0.96666667, 0.96666667,\n",
              "        0.96666667, 0.96666667, 0.96666667, 0.96666667, 0.96666667,\n",
              "        0.96666667, 0.96666667, 0.96666667, 0.96666667, 0.93333333,\n",
              "        0.96666667, 0.93333333]),\n",
              " 'split4_test_score': array([0.9       , 0.93333333, 0.9       , 0.93333333, 0.9       ,\n",
              "        1.        , 0.9       , 0.83333333, 1.        , 0.93333333,\n",
              "        1.        , 0.93333333, 1.        , 1.        , 1.        ,\n",
              "        0.83333333, 1.        , 1.        , 1.        , 1.        ,\n",
              "        1.        , 1.        , 1.        , 0.96666667, 1.        ,\n",
              "        1.        , 1.        , 1.        , 1.        , 1.        ,\n",
              "        1.        , 0.96666667]),\n",
              " 'mean_test_score': array([0.92      , 0.91333333, 0.92      , 0.91333333, 0.92      ,\n",
              "        0.96      , 0.92      , 0.76666667, 0.97333333, 0.91333333,\n",
              "        0.97333333, 0.92      , 0.97333333, 0.96      , 0.97333333,\n",
              "        0.76666667, 0.98      , 0.93333333, 0.98      , 0.98      ,\n",
              "        0.98      , 0.96666667, 0.98      , 0.94      , 0.97333333,\n",
              "        0.98      , 0.97333333, 0.98      , 0.97333333, 0.95333333,\n",
              "        0.97333333, 0.93333333]),\n",
              " 'std_test_score': array([0.04      , 0.05416026, 0.04      , 0.02666667, 0.04      ,\n",
              "        0.02494438, 0.04      , 0.05962848, 0.01333333, 0.05416026,\n",
              "        0.01333333, 0.01632993, 0.01333333, 0.02494438, 0.01333333,\n",
              "        0.05962848, 0.01632993, 0.04714045, 0.01632993, 0.01632993,\n",
              "        0.01632993, 0.03651484, 0.01632993, 0.04898979, 0.03887301,\n",
              "        0.01632993, 0.03887301, 0.01632993, 0.03887301, 0.03399346,\n",
              "        0.03887301, 0.04714045]),\n",
              " 'rank_test_score': array([23, 28, 23, 28, 23, 17, 23, 31,  8, 28,  8, 23,  8, 17,  8, 31,  1,\n",
              "        21,  1,  1,  1, 16,  1, 20,  8,  1,  8,  1,  8, 19,  8, 21],\n",
              "       dtype=int32),\n",
              " 'split0_train_score': array([0.9       , 0.925     , 0.9       , 0.925     , 0.9       ,\n",
              "        0.975     , 0.9       , 0.875     , 0.975     , 0.925     ,\n",
              "        0.975     , 0.95      , 0.975     , 0.975     , 0.975     ,\n",
              "        0.875     , 0.975     , 0.95833333, 0.975     , 0.975     ,\n",
              "        0.975     , 0.975     , 0.975     , 1.        , 0.96666667,\n",
              "        0.975     , 0.96666667, 0.975     , 0.96666667, 0.975     ,\n",
              "        0.96666667, 1.        ]),\n",
              " 'split1_train_score': array([0.925     , 0.91666667, 0.925     , 0.94166667, 0.925     ,\n",
              "        0.95833333, 0.925     , 0.90833333, 0.95      , 0.91666667,\n",
              "        0.95      , 0.94166667, 0.95      , 0.95833333, 0.95      ,\n",
              "        0.90833333, 0.975     , 0.93333333, 0.975     , 0.95833333,\n",
              "        0.975     , 0.98333333, 0.975     , 1.        , 0.96666667,\n",
              "        0.975     , 0.96666667, 0.98333333, 0.96666667, 0.98333333,\n",
              "        0.96666667, 1.        ]),\n",
              " 'split2_train_score': array([0.95833333, 0.93333333, 0.95833333, 0.94166667, 0.95833333,\n",
              "        0.96666667, 0.95833333, 0.88333333, 0.98333333, 0.93333333,\n",
              "        0.98333333, 0.95833333, 0.98333333, 0.98333333, 0.98333333,\n",
              "        0.88333333, 0.99166667, 0.96666667, 0.99166667, 0.975     ,\n",
              "        0.99166667, 0.99166667, 0.99166667, 1.        , 0.99166667,\n",
              "        0.98333333, 0.99166667, 0.99166667, 0.99166667, 0.99166667,\n",
              "        0.99166667, 1.        ]),\n",
              " 'split3_train_score': array([0.94166667, 0.925     , 0.94166667, 0.94166667, 0.94166667,\n",
              "        0.96666667, 0.94166667, 0.9       , 0.975     , 0.925     ,\n",
              "        0.975     , 0.94166667, 0.975     , 0.975     , 0.975     ,\n",
              "        0.9       , 0.98333333, 0.95      , 0.98333333, 1.        ,\n",
              "        0.98333333, 0.99166667, 0.98333333, 1.        , 0.99166667,\n",
              "        0.98333333, 0.99166667, 0.99166667, 0.99166667, 0.99166667,\n",
              "        0.99166667, 1.        ]),\n",
              " 'split4_train_score': array([0.90833333, 0.9       , 0.90833333, 0.9       , 0.90833333,\n",
              "        0.94166667, 0.90833333, 0.89166667, 0.93333333, 0.9       ,\n",
              "        0.93333333, 0.90833333, 0.93333333, 0.95      , 0.93333333,\n",
              "        0.89166667, 0.98333333, 0.91666667, 0.98333333, 0.95833333,\n",
              "        0.98333333, 0.99166667, 0.98333333, 1.        , 0.975     ,\n",
              "        0.95833333, 0.975     , 0.98333333, 0.975     , 0.98333333,\n",
              "        0.975     , 1.        ]),\n",
              " 'mean_train_score': array([0.92666667, 0.92      , 0.92666667, 0.93      , 0.92666667,\n",
              "        0.96166667, 0.92666667, 0.89166667, 0.96333333, 0.92      ,\n",
              "        0.96333333, 0.94      , 0.96333333, 0.96833333, 0.96333333,\n",
              "        0.89166667, 0.98166667, 0.945     , 0.98166667, 0.97333333,\n",
              "        0.98166667, 0.98666667, 0.98166667, 1.        , 0.97833333,\n",
              "        0.975     , 0.97833333, 0.985     , 0.97833333, 0.985     ,\n",
              "        0.97833333, 1.        ]),\n",
              " 'std_train_score': array([0.02134375, 0.01130388, 0.02134375, 0.01632993, 0.02134375,\n",
              "        0.01130388, 0.02134375, 0.01178511, 0.01870829, 0.01130388,\n",
              "        0.01870829, 0.01699673, 0.01870829, 0.01224745, 0.01870829,\n",
              "        0.01178511, 0.0062361 , 0.01795055, 0.0062361 , 0.01527525,\n",
              "        0.0062361 , 0.00666667, 0.0062361 , 0.        , 0.01130388,\n",
              "        0.00912871, 0.01130388, 0.0062361 , 0.01130388, 0.0062361 ,\n",
              "        0.01130388, 0.        ])}"
            ]
          },
          "metadata": {},
          "execution_count": 5
        }
      ],
      "source": [
        "best_model.cv_results_"
      ]
    },
    {
      "cell_type": "code",
      "execution_count": null,
      "metadata": {
        "id": "mZq9SZt4SNH6"
      },
      "outputs": [],
      "source": []
    }
  ],
  "metadata": {
    "kernelspec": {
      "display_name": "Python 3 (ipykernel)",
      "language": "python",
      "name": "python3"
    },
    "language_info": {
      "codemirror_mode": {
        "name": "ipython",
        "version": 3
      },
      "file_extension": ".py",
      "mimetype": "text/x-python",
      "name": "python",
      "nbconvert_exporter": "python",
      "pygments_lexer": "ipython3",
      "version": "3.10.2"
    },
    "toc": {
      "base_numbering": 1,
      "nav_menu": {},
      "number_sections": true,
      "sideBar": true,
      "skip_h1_title": false,
      "title_cell": "Table of Contents",
      "title_sidebar": "Contents",
      "toc_cell": false,
      "toc_position": {},
      "toc_section_display": true,
      "toc_window_display": false
    },
    "colab": {
      "provenance": []
    }
  },
  "nbformat": 4,
  "nbformat_minor": 0
}