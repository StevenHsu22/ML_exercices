{
  "cells": [
    {
      "cell_type": "code",
      "execution_count": null,
      "metadata": {
        "id": "z9Fc6yrH8l4K"
      },
      "outputs": [],
      "source": [
        "from sklearn import preprocessing\n",
        "import numpy as np"
      ]
    },
    {
      "cell_type": "code",
      "execution_count": null,
      "metadata": {
        "id": "ZA394OFc8l4O",
        "colab": {
          "base_uri": "https://localhost:8080/"
        },
        "outputId": "aa78a625-55a7-42c0-8f07-5377cd6684d3"
      },
      "outputs": [
        {
          "output_type": "stream",
          "name": "stdout",
          "text": [
            "[[  10.     2.7    3.6    5. ]\n",
            " [-100.     5.    -2.    10. ]\n",
            " [ 120.    20.    40.    50. ]]\n"
          ]
        }
      ],
      "source": [
        "a = np.array([[10, 2.7, 3.6, 5], [-100, 5, -2, 10], [120, 20, 40, 50]],\n",
        "             dtype=np.float64)\n",
        "print(a)"
      ]
    },
    {
      "cell_type": "code",
      "execution_count": null,
      "metadata": {
        "id": "tnU2DWZA8l4P"
      },
      "outputs": [],
      "source": [
        "def normalize(x, axis, method, minmax_range=(0, 1)):\n",
        "    if method == 'z-score':\n",
        "        scale_a = preprocessing.scale(x, axis=axis)\n",
        "    elif method == 'minmax':\n",
        "        scale_a = preprocessing.minmax_scale(\n",
        "            x, axis=axis,\n",
        "            feature_range=minmax_range)  # default feature range 0~1\n",
        "    return scale_a"
      ]
    },
    {
      "cell_type": "markdown",
      "metadata": {
        "id": "IjYzyEGo8l4Q"
      },
      "source": [
        "# Z-Score"
      ]
    },
    {
      "cell_type": "code",
      "execution_count": null,
      "metadata": {
        "id": "vThzI8pK8l59",
        "colab": {
          "base_uri": "https://localhost:8080/"
        },
        "outputId": "2b5cf783-097b-4cf6-96e1-f86040bdb231"
      },
      "outputs": [
        {
          "output_type": "stream",
          "name": "stdout",
          "text": [
            "[[ 0.         -0.85170713 -0.55138018 -0.82760589]\n",
            " [-1.22474487 -0.55187146 -0.852133   -0.57932412]\n",
            " [ 1.22474487  1.40357859  1.40351318  1.40693001]]\n"
          ]
        }
      ],
      "source": [
        "# 改變axis，看看結果如何變化\n",
        "axis = 0\n",
        "scale_a = normalize(a, axis, method='z-score')\n",
        "print(scale_a)"
      ]
    },
    {
      "cell_type": "code",
      "execution_count": null,
      "metadata": {
        "id": "ftZarJ0R8l5_",
        "colab": {
          "base_uri": "https://localhost:8080/"
        },
        "outputId": "b5f57fd5-3c12-4439-953b-46010fbe81a1"
      },
      "outputs": [
        {
          "output_type": "stream",
          "name": "stdout",
          "text": [
            "[1. 1. 1. 1.]\n",
            "[ 0.00000000e+00  1.48029737e-16  0.00000000e+00 -7.40148683e-17]\n"
          ]
        }
      ],
      "source": [
        "print(scale_a.std(axis=axis))\n",
        "print(scale_a.mean(axis=axis))"
      ]
    },
    {
      "cell_type": "markdown",
      "metadata": {
        "id": "1sKpNCR48l5_"
      },
      "source": [
        "# Maxmin Scale"
      ]
    },
    {
      "cell_type": "code",
      "execution_count": null,
      "metadata": {
        "id": "xmGVas5W8l6A",
        "colab": {
          "base_uri": "https://localhost:8080/"
        },
        "outputId": "2af81e56-aa43-45f2-b5a4-d11fbc97dd5d"
      },
      "outputs": [
        {
          "output_type": "stream",
          "name": "stdout",
          "text": [
            "[[0.5        0.         0.13333333 0.        ]\n",
            " [0.         0.13294798 0.         0.11111111]\n",
            " [1.         1.         1.         1.        ]]\n"
          ]
        }
      ],
      "source": [
        "# 改變axis，看看結果如何變化\n",
        "axis = 0\n",
        "# 改變minmax_range看看結果如何變化\n",
        "scale_a = normalize(a, axis, method='minmax', minmax_range=(0, 1))\n",
        "print(scale_a)"
      ]
    },
    {
      "cell_type": "code",
      "execution_count": null,
      "metadata": {
        "id": "4ms-Z3i58l6B",
        "colab": {
          "base_uri": "https://localhost:8080/"
        },
        "outputId": "b94237a4-ae33-4f03-de17-3d0c4304beda"
      },
      "outputs": [
        {
          "output_type": "stream",
          "name": "stdout",
          "text": [
            "[1. 1. 1. 1.]\n",
            "[0. 0. 0. 0.]\n"
          ]
        }
      ],
      "source": [
        "print(scale_a.max(axis=axis))\n",
        "print(scale_a.min(axis=axis))"
      ]
    },
    {
      "cell_type": "code",
      "execution_count": null,
      "metadata": {
        "id": "77S_Bkb58l6B"
      },
      "outputs": [],
      "source": []
    }
  ],
  "metadata": {
    "kernelspec": {
      "display_name": "Python 3 (ipykernel)",
      "language": "python",
      "name": "python3"
    },
    "language_info": {
      "codemirror_mode": {
        "name": "ipython",
        "version": 3
      },
      "file_extension": ".py",
      "mimetype": "text/x-python",
      "name": "python",
      "nbconvert_exporter": "python",
      "pygments_lexer": "ipython3",
      "version": "3.10.2"
    },
    "toc": {
      "base_numbering": 1,
      "nav_menu": {},
      "number_sections": true,
      "sideBar": true,
      "skip_h1_title": false,
      "title_cell": "Table of Contents",
      "title_sidebar": "Contents",
      "toc_cell": false,
      "toc_position": {},
      "toc_section_display": true,
      "toc_window_display": false
    },
    "colab": {
      "provenance": []
    }
  },
  "nbformat": 4,
  "nbformat_minor": 0
}