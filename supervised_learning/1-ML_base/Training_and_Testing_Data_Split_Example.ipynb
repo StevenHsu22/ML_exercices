{
 "cells": [
  {
   "cell_type": "code",
   "execution_count": null,
   "metadata": {},
   "outputs": [],
   "source": [
    "from sklearn.model_selection import train_test_split\n",
    "import numpy as np\n",
    "\n",
    "# Create dataset\n",
    "X, y = np.arange(50).reshape(10, 5), np.arange(10)\n",
    "\n",
    "# Training & Testing Data Split\n",
    "# trying to tune shuffle and random_state\n",
    "X_train, X_test, y_train, y_test = train_test_split(X,\n",
    "                                                    y,\n",
    "                                                    test_size=0.33, # 分割成測試集的比例\n",
    "                                                    random_state=42, # 確保每次分割結果一致，方便重現結果\n",
    "                                                    shuffle=False) # 不打亂資料的順序"
   ]
  }
 ],
 "metadata": {
  "language_info": {
   "name": "python"
  }
 },
 "nbformat": 4,
 "nbformat_minor": 2
}
